version https://git-lfs.github.com/spec/v1
oid sha256:6f0bdf733b9b1a346e63fcc1835a82a52b8b5d24dcc298f98853b6fda80dcfa0
size 1143382
