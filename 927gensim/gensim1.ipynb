version https://git-lfs.github.com/spec/v1
oid sha256:0afbac8243380344e8b8b3824c0492e335b5a6387ad43a6ad931433df0e6dbdf
size 56125
